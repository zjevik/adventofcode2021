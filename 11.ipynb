{
 "cells": [
  {
   "cell_type": "code",
   "execution_count": 2,
   "metadata": {},
   "outputs": [],
   "source": [
    "import pandas as pd\n",
    "import numpy as np"
   ]
  },
  {
   "cell_type": "code",
   "execution_count": 1,
   "metadata": {},
   "outputs": [],
   "source": [
    "input=\"\"\"5483143223\n",
    "2745854711\n",
    "5264556173\n",
    "6141336146\n",
    "6357385478\n",
    "4167524645\n",
    "2176841721\n",
    "6882881134\n",
    "4846848554\n",
    "5283751526\"\"\""
   ]
  },
  {
   "cell_type": "code",
   "execution_count": 51,
   "metadata": {},
   "outputs": [],
   "source": [
    "input = \"\"\"\"\"\""
   ]
  },
  {
   "cell_type": "code",
   "execution_count": 12,
   "metadata": {},
   "outputs": [
    {
     "data": {
      "text/plain": [
       "[(0, 0), (0, 1), (0, 2), (1, 0), (1, 2), (2, 0), (2, 1), (2, 2)]"
      ]
     },
     "execution_count": 12,
     "metadata": {},
     "output_type": "execute_result"
    }
   ],
   "source": [
    "arr = []\n",
    "for line in input.split('\\n'):\n",
    "    arr.append([int(x) for x in line])\n",
    "arr = np.array(arr)\n",
    "\n",
    "def get_neigh_coor(coor, arr):\n",
    "    ret = []\n",
    "    for i in range(-1,2):\n",
    "        for j in range(-1,2):\n",
    "            if i != 0 or j != 0:\n",
    "                ret.append((coor[0]+i,coor[1]+j))\n",
    "    return [x for x in ret if x[0]>=0 and x[1]>=0 and x[0] < arr.shape[0] and x[1] < arr.shape[1]]\n",
    "\n",
    "get_neigh_coor((1,1),arr)"
   ]
  },
  {
   "cell_type": "code",
   "execution_count": 10,
   "metadata": {},
   "outputs": [
    {
     "data": {
      "text/plain": [
       "(10, 10)"
      ]
     },
     "execution_count": 10,
     "metadata": {},
     "output_type": "execute_result"
    }
   ],
   "source": [
    "arr.shape"
   ]
  },
  {
   "cell_type": "code",
   "execution_count": 14,
   "metadata": {},
   "outputs": [
    {
     "data": {
      "text/plain": [
       "5"
      ]
     },
     "execution_count": 14,
     "metadata": {},
     "output_type": "execute_result"
    }
   ],
   "source": [
    "arr[0,0]"
   ]
  },
  {
   "cell_type": "code",
   "execution_count": 17,
   "metadata": {},
   "outputs": [
    {
     "ename": "KeyboardInterrupt",
     "evalue": "",
     "output_type": "error",
     "traceback": [
      "\u001b[0;31m---------------------------------------------------------------------------\u001b[0m",
      "\u001b[0;31mKeyboardInterrupt\u001b[0m                         Traceback (most recent call last)",
      "\u001b[0;32m/var/folders/rr/ww1ckxfx54bftbc06_4b_7bc0000gn/T/ipykernel_17518/2470399968.py\u001b[0m in \u001b[0;36m<module>\u001b[0;34m\u001b[0m\n\u001b[1;32m     14\u001b[0m                     \u001b[0mflashes\u001b[0m \u001b[0;34m+=\u001b[0m \u001b[0;36m1\u001b[0m\u001b[0;34m\u001b[0m\u001b[0;34m\u001b[0m\u001b[0m\n\u001b[1;32m     15\u001b[0m                     \u001b[0;32mfor\u001b[0m \u001b[0mcoor\u001b[0m \u001b[0;32min\u001b[0m \u001b[0mget_neigh_coor\u001b[0m\u001b[0;34m(\u001b[0m\u001b[0;34m(\u001b[0m\u001b[0mx\u001b[0m\u001b[0;34m,\u001b[0m\u001b[0my\u001b[0m\u001b[0;34m)\u001b[0m\u001b[0;34m,\u001b[0m\u001b[0marr\u001b[0m\u001b[0;34m)\u001b[0m\u001b[0;34m:\u001b[0m\u001b[0;34m\u001b[0m\u001b[0;34m\u001b[0m\u001b[0m\n\u001b[0;32m---> 16\u001b[0;31m                         \u001b[0marr\u001b[0m\u001b[0;34m[\u001b[0m\u001b[0mcoor\u001b[0m\u001b[0;34m]\u001b[0m \u001b[0;34m+=\u001b[0m \u001b[0;36m1\u001b[0m\u001b[0;34m\u001b[0m\u001b[0;34m\u001b[0m\u001b[0m\n\u001b[0m\u001b[1;32m     17\u001b[0m \u001b[0;34m\u001b[0m\u001b[0m\n\u001b[1;32m     18\u001b[0m \u001b[0marr\u001b[0m\u001b[0;34m\u001b[0m\u001b[0;34m\u001b[0m\u001b[0m\n",
      "\u001b[0;31mKeyboardInterrupt\u001b[0m: "
     ]
    }
   ],
   "source": [
    "# part 1\n",
    "flashes = 0\n",
    "for step in range(1):\n",
    "    for x in range(arr.shape[0]):\n",
    "        for y in range(arr.shape[1]):\n",
    "            arr[x,y] += 1\n",
    "    flash = True\n",
    "    while flash:\n",
    "        flash = False\n",
    "        for x in range(arr.shape[0]):\n",
    "            for y in range(arr.shape[1]):\n",
    "                if arr[x,y] > 9:\n",
    "                    flash = True\n",
    "                    flashes += 1\n",
    "                    for coor in get_neigh_coor((x,y),arr):\n",
    "                        arr[coor] += 1\n",
    "\n",
    "arr"
   ]
  },
  {
   "cell_type": "code",
   "execution_count": 52,
   "metadata": {},
   "outputs": [
    {
     "data": {
      "text/plain": [
       "1105996483"
      ]
     },
     "execution_count": 52,
     "metadata": {},
     "output_type": "execute_result"
    }
   ],
   "source": [
    "\n",
    "# part 2\n",
    "score = 0\n",
    "lines = []\n",
    "score_dict = {'(':1, '[':2, '{':3, '<':4}\n",
    "for line in input.split('\\n'):\n",
    "    # print(line)\n",
    "    pos = 0\n",
    "    incomplete = True\n",
    "    while pos < len(line):\n",
    "        if line[pos] in open_pair:\n",
    "            if pos == 0:\n",
    "                print(f'bad position char:{line[pos]}')\n",
    "                break\n",
    "            else:\n",
    "                if line[pos-1] != open_pair[line[pos]]:\n",
    "                    # print(f'bad char: found {line[pos-1]}, expected {open_pair[line[pos]]}')\n",
    "                    # print(f'-- {line}')\n",
    "                    # score += score_dict[line[pos]]\n",
    "                    incomplete = False\n",
    "                    break\n",
    "                else:\n",
    "                    # print(f'before: {line} pos:{pos}')\n",
    "                    line = line[:pos-1]+line[pos+1:]\n",
    "                    pos = -1\n",
    "                    # print(f'after: {line} pos:{pos}')\n",
    "        pos +=1\n",
    "    if incomplete:\n",
    "        lines.append(line)\n",
    "lines\n",
    "line_scores = []\n",
    "for line in lines:\n",
    "    # print(line)\n",
    "    score = 0\n",
    "    for c in line[::-1]:\n",
    "        score *= 5\n",
    "        score += score_dict[c]\n",
    "    line_scores.append(score)\n",
    "sorted(line_scores)[int(len(line_scores)/2)]\n",
    "        "
   ]
  },
  {
   "cell_type": "code",
   "execution_count": 43,
   "metadata": {},
   "outputs": [
    {
     "data": {
      "text/plain": [
       "'cba'"
      ]
     },
     "execution_count": 43,
     "metadata": {},
     "output_type": "execute_result"
    }
   ],
   "source": [
    "'abc'[::-1]"
   ]
  },
  {
   "cell_type": "code",
   "execution_count": null,
   "metadata": {},
   "outputs": [],
   "source": []
  }
 ],
 "metadata": {
  "interpreter": {
   "hash": "31f2aee4e71d21fbe5cf8b01ff0e069b9275f58929596ceb00d14d90e3e16cd6"
  },
  "kernelspec": {
   "display_name": "Python 3.8.9 64-bit",
   "name": "python3"
  },
  "language_info": {
   "codemirror_mode": {
    "name": "ipython",
    "version": 3
   },
   "file_extension": ".py",
   "mimetype": "text/x-python",
   "name": "python",
   "nbconvert_exporter": "python",
   "pygments_lexer": "ipython3",
   "version": "3.8.9"
  },
  "orig_nbformat": 4
 },
 "nbformat": 4,
 "nbformat_minor": 2
}
