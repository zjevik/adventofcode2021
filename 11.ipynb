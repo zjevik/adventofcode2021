{
 "cells": [
  {
   "cell_type": "code",
   "execution_count": 3,
   "metadata": {},
   "outputs": [],
   "source": [
    "import pandas as pd\n",
    "import numpy as np"
   ]
  },
  {
   "cell_type": "code",
   "execution_count": 36,
   "metadata": {},
   "outputs": [],
   "source": [
    "input=\"\"\"5483143223\n",
    "2745854711\n",
    "5264556173\n",
    "6141336146\n",
    "6357385478\n",
    "4167524645\n",
    "2176841721\n",
    "6882881134\n",
    "4846848554\n",
    "5283751526\"\"\""
   ]
  },
  {
   "cell_type": "code",
   "execution_count": 1,
   "metadata": {},
   "outputs": [],
   "source": [
    "input = \"\"\"7777838353\n",
    "2217272478\n",
    "3355318645\n",
    "2242618113\n",
    "7182468666\n",
    "5441641111\n",
    "4773862364\n",
    "5717125521\n",
    "7542127721\n",
    "4576678341\"\"\""
   ]
  },
  {
   "cell_type": "code",
   "execution_count": 4,
   "metadata": {},
   "outputs": [],
   "source": [
    "def get_neigh_coor(coor, arr):\n",
    "    ret = []\n",
    "    for i in range(-1,2):\n",
    "        for j in range(-1,2):\n",
    "            if i != 0 or j != 0:\n",
    "                ret.append((coor[0]+i,coor[1]+j))\n",
    "    return [x for x in ret if x[0]>=0 and x[1]>=0 and x[0] < arr.shape[0] and x[1] < arr.shape[1]]\n",
    "\n",
    "# get_neigh_coor((1,1),arr)"
   ]
  },
  {
   "cell_type": "code",
   "execution_count": 5,
   "metadata": {},
   "outputs": [
    {
     "data": {
      "text/plain": [
       "1721"
      ]
     },
     "execution_count": 5,
     "metadata": {},
     "output_type": "execute_result"
    }
   ],
   "source": [
    "# part 1\n",
    "arr = []\n",
    "for line in input.split('\\n'):\n",
    "    arr.append([int(x) for x in line])\n",
    "arr = np.array(arr)\n",
    "\n",
    "flashes = 0\n",
    "for step in range(100):\n",
    "    flashed_coord = set()\n",
    "    for x in range(arr.shape[0]):\n",
    "        for y in range(arr.shape[1]):\n",
    "            arr[x,y] += 1\n",
    "    flash = True\n",
    "    while flash:\n",
    "        # print(f'flashes: {flashes}')\n",
    "        flash = False\n",
    "        for x in range(arr.shape[0]):\n",
    "            for y in range(arr.shape[1]):\n",
    "                if (arr[x,y] > 9) and (x,y) not in flashed_coord:\n",
    "                    flashed_coord.add((x,y))\n",
    "                    flash = True\n",
    "                    flashes += 1\n",
    "                    for coor in get_neigh_coor((x,y),arr):\n",
    "                        arr[coor] += 1\n",
    "    for x in range(arr.shape[0]):\n",
    "        for y in range(arr.shape[1]):\n",
    "            if (arr[x,y] > 9):\n",
    "                arr[x,y] = 0\n",
    "\n",
    "arr\n",
    "flashes"
   ]
  },
  {
   "cell_type": "code",
   "execution_count": 20,
   "metadata": {},
   "outputs": [
    {
     "data": {
      "text/plain": [
       "0"
      ]
     },
     "execution_count": 20,
     "metadata": {},
     "output_type": "execute_result"
    }
   ],
   "source": [
    "flashes"
   ]
  },
  {
   "cell_type": "code",
   "execution_count": 6,
   "metadata": {},
   "outputs": [
    {
     "name": "stdout",
     "output_type": "stream",
     "text": [
      "all together, step 298\n"
     ]
    },
    {
     "data": {
      "text/plain": [
       "4742"
      ]
     },
     "execution_count": 6,
     "metadata": {},
     "output_type": "execute_result"
    }
   ],
   "source": [
    "# part 2\n",
    "arr = []\n",
    "for line in input.split('\\n'):\n",
    "    arr.append([int(x) for x in line])\n",
    "arr = np.array(arr)\n",
    "\n",
    "flashes = 0\n",
    "for step in range(10000):\n",
    "    old_flashes = flashes\n",
    "    flashed_coord = set()\n",
    "    for x in range(arr.shape[0]):\n",
    "        for y in range(arr.shape[1]):\n",
    "            arr[x,y] += 1\n",
    "    flash = True\n",
    "    while flash:\n",
    "        # print(f'flashes: {flashes}')\n",
    "        flash = False\n",
    "        for x in range(arr.shape[0]):\n",
    "            for y in range(arr.shape[1]):\n",
    "                if (arr[x,y] > 9) and (x,y) not in flashed_coord:\n",
    "                    flashed_coord.add((x,y))\n",
    "                    flash = True\n",
    "                    flashes += 1\n",
    "                    for coor in get_neigh_coor((x,y),arr):\n",
    "                        arr[coor] += 1\n",
    "    for x in range(arr.shape[0]):\n",
    "        for y in range(arr.shape[1]):\n",
    "            if (arr[x,y] > 9):\n",
    "                arr[x,y] = 0\n",
    "    if flashes-old_flashes == 100:\n",
    "        print(f'all together, step {step+1}')\n",
    "        break\n",
    "arr\n",
    "flashes"
   ]
  },
  {
   "cell_type": "code",
   "execution_count": null,
   "metadata": {},
   "outputs": [],
   "source": []
  }
 ],
 "metadata": {
  "interpreter": {
   "hash": "31f2aee4e71d21fbe5cf8b01ff0e069b9275f58929596ceb00d14d90e3e16cd6"
  },
  "kernelspec": {
   "display_name": "Python 3.8.9 64-bit",
   "name": "python3"
  },
  "language_info": {
   "codemirror_mode": {
    "name": "ipython",
    "version": 3
   },
   "file_extension": ".py",
   "mimetype": "text/x-python",
   "name": "python",
   "nbconvert_exporter": "python",
   "pygments_lexer": "ipython3",
   "version": "3.8.9"
  },
  "orig_nbformat": 4
 },
 "nbformat": 4,
 "nbformat_minor": 2
}
