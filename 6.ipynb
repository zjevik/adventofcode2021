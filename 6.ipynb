{
 "cells": [
  {
   "cell_type": "code",
   "execution_count": 1,
   "metadata": {},
   "outputs": [],
   "source": [
    "import pandas as pd\n",
    "import numpy as np"
   ]
  },
  {
   "cell_type": "code",
   "execution_count": 23,
   "metadata": {},
   "outputs": [],
   "source": [
    "input=\"\"\"3,5,2,5,4,3,2,2,3,5,2,3,2,2,2,2,3,5,3,5,5,2,2,3,4,2,3,5,5,3,3,5,2,4,5,4,3,5,3,2,5,4,1,1,1,5,1,4,1,4,3,5,2,3,2,2,2,5,2,1,2,2,2,2,3,4,5,2,5,4,1,3,1,5,5,5,3,5,3,1,5,4,2,5,3,3,5,5,5,3,2,2,1,1,3,2,1,2,2,4,3,4,1,3,4,1,2,2,4,1,3,1,4,3,3,1,2,3,1,3,4,1,1,2,5,1,2,1,2,4,1,3,2,1,1,2,4,3,5,1,3,2,1,3,2,3,4,5,5,4,1,3,4,1,2,3,5,2,3,5,2,1,1,5,5,4,4,4,5,3,3,2,5,4,4,1,5,1,5,5,5,2,2,1,2,4,5,1,2,1,4,5,4,2,4,3,2,5,2,2,1,4,3,5,4,2,1,1,5,1,4,5,1,2,5,5,1,4,1,1,4,5,2,5,3,1,4,5,2,1,3,1,3,3,5,5,1,4,1,3,2,2,3,5,4,3,2,5,1,1,1,2,2,5,3,4,2,1,3,2,5,3,2,2,3,5,2,1,4,5,4,4,5,5,3,3,5,4,5,5,4,3,5,3,5,3,1,3,2,2,1,4,4,5,2,2,4,2,1,4\"\"\""
   ]
  },
  {
   "cell_type": "code",
   "execution_count": 26,
   "metadata": {},
   "outputs": [
    {
     "data": {
      "text/plain": [
       "[140311711584,\n",
       " 158409220976,\n",
       " 167360699397,\n",
       " 187272872636,\n",
       " 201371034448,\n",
       " 220112351447,\n",
       " 242765170168,\n",
       " 118860021798,\n",
       " 132645291378]"
      ]
     },
     "execution_count": 26,
     "metadata": {},
     "output_type": "execute_result"
    }
   ],
   "source": [
    "arr_tmp = [int(x) for x in input.split(',')]\n",
    "arr = [arr_tmp.count(x) for x in range(9)]\n",
    "\n",
    "def one_day(arr):\n",
    "    zeros = arr[0]\n",
    "    for x in range(1,9):\n",
    "        arr[x-1] = arr[x]\n",
    "    arr[8] = zeros\n",
    "    arr[6] += zeros\n",
    "\n",
    "    return arr\n",
    "for x in range(256):\n",
    "    # print(arr)\n",
    "    one_day(arr)\n",
    "arr"
   ]
  },
  {
   "cell_type": "code",
   "execution_count": 27,
   "metadata": {},
   "outputs": [
    {
     "data": {
      "text/plain": [
       "1569108373832"
      ]
     },
     "execution_count": 27,
     "metadata": {},
     "output_type": "execute_result"
    }
   ],
   "source": [
    "sum(arr)"
   ]
  },
  {
   "cell_type": "code",
   "execution_count": null,
   "metadata": {},
   "outputs": [],
   "source": []
  },
  {
   "cell_type": "code",
   "execution_count": null,
   "metadata": {},
   "outputs": [],
   "source": []
  },
  {
   "cell_type": "code",
   "execution_count": 9,
   "metadata": {},
   "outputs": [
    {
     "data": {
      "text/plain": [
       "[8, 7, 6, 5, 4, 3, 2, 1]"
      ]
     },
     "execution_count": 9,
     "metadata": {},
     "output_type": "execute_result"
    }
   ],
   "source": [
    "list(range(8,0,-1))"
   ]
  },
  {
   "cell_type": "code",
   "execution_count": null,
   "metadata": {},
   "outputs": [],
   "source": [
    "#part 1\n",
    "# calls = [int(x) for x in Lines[0].split('\\n')[0].split(',')]\n",
    "# print(calls)\n",
    "arr = []\n",
    "for line in Lines:\n",
    "    beg, end = line.split(' -> ')\n",
    "    x1,y1 = beg.split(',')\n",
    "    x2,y2 = end.split(',')\n",
    "    x1 = int(x1)\n",
    "    x2 = int(x2)\n",
    "    y1 = int(y1)\n",
    "    y2 = int(y2)\n",
    "    if x1 > x2:\n",
    "        x = x1\n",
    "        x1 = x2\n",
    "        x2 = x\n",
    "    if y1 > y2:\n",
    "        y = y1\n",
    "        y1 = y2\n",
    "        y2 = y\n",
    "        \n",
    "    if (x1 == x2) or (y1 == y2):\n",
    "        # print(x1,y1,x2,y2)\n",
    "        arr = ensure_arr(arr, max(x1,x2,y1,y2)+1)\n",
    "        for x in range(x1,x2+1):\n",
    "            for y in range(y1,y2+1):\n",
    "                arr[y][x] += 1\n",
    "# arr\n",
    "\n",
    "\n",
    "# marks[0:3]"
   ]
  },
  {
   "cell_type": "code",
   "execution_count": 71,
   "metadata": {},
   "outputs": [],
   "source": [
    "# calls = [int(x) for x in Lines[0].split('\\n')[0].split(',')]\n",
    "# print(calls)\n",
    "file1 = open('5.txt', 'r')\n",
    "Lines = file1.readlines()\n",
    "arr = []\n",
    "for line in Lines:\n",
    "    beg, end = line.split(' -> ')\n",
    "    x1,y1 = beg.split(',')\n",
    "    x2,y2 = end.split(',')\n",
    "    x1 = int(x1)\n",
    "    x2 = int(x2)\n",
    "    y1 = int(y1)\n",
    "    y2 = int(y2)\n",
    "    arr = ensure_arr(arr, max(x1,x2,y1,y2)+1)\n",
    "    if (x1 == x2) or (y1 == y2):\n",
    "        # print(x1,y1,x2,y2)\n",
    "        # arr = ensure_arr(arr, max(x1,x2,y1,y2)+1)\n",
    "        if x1 > x2:\n",
    "            x = x1\n",
    "            x1 = x2\n",
    "            x2 = x\n",
    "        if y1 > y2:\n",
    "            y = y1\n",
    "            y1 = y2\n",
    "            y2 = y\n",
    "        for x in range(x1,x2+1):\n",
    "            for y in range(y1,y2+1):\n",
    "                arr[y][x] += 1\n",
    "    else:\n",
    "        x_dir = 1 if x2 > x1 else -1\n",
    "        y_dir = 1 if y2 > y1 else -1\n",
    "        for t in range(abs(x2-x1)+1):\n",
    "            arr[y1+t*y_dir][x1+t*x_dir] += 1\n",
    "# arr\n",
    "\n",
    "\n",
    "# marks[0:3]"
   ]
  },
  {
   "cell_type": "code",
   "execution_count": 72,
   "metadata": {},
   "outputs": [
    {
     "data": {
      "text/plain": [
       "18864"
      ]
     },
     "execution_count": 72,
     "metadata": {},
     "output_type": "execute_result"
    }
   ],
   "source": [
    "sum = 0\n",
    "for x in range(len(arr)):\n",
    "    # print()\n",
    "    for y in range(len(arr)):\n",
    "        # print()\n",
    "        if arr[y][x] > 1:\n",
    "            sum += 1\n",
    "sum"
   ]
  },
  {
   "cell_type": "code",
   "execution_count": null,
   "metadata": {},
   "outputs": [],
   "source": []
  }
 ],
 "metadata": {
  "interpreter": {
   "hash": "31f2aee4e71d21fbe5cf8b01ff0e069b9275f58929596ceb00d14d90e3e16cd6"
  },
  "kernelspec": {
   "display_name": "Python 3.8.9 64-bit",
   "name": "python3"
  },
  "language_info": {
   "codemirror_mode": {
    "name": "ipython",
    "version": 3
   },
   "file_extension": ".py",
   "mimetype": "text/x-python",
   "name": "python",
   "nbconvert_exporter": "python",
   "pygments_lexer": "ipython3",
   "version": "3.8.9"
  },
  "orig_nbformat": 4
 },
 "nbformat": 4,
 "nbformat_minor": 2
}
