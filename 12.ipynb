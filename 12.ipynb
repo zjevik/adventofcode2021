{
 "cells": [
  {
   "cell_type": "code",
   "execution_count": 1,
   "metadata": {},
   "outputs": [],
   "source": [
    "import pandas as pd\n",
    "import numpy as np"
   ]
  },
  {
   "cell_type": "code",
   "execution_count": 124,
   "metadata": {},
   "outputs": [],
   "source": [
    "input=\"\"\"yb-start\n",
    "de-vd\n",
    "rj-yb\n",
    "rj-VP\n",
    "OC-de\n",
    "MU-de\n",
    "end-DN\n",
    "vd-end\n",
    "WK-vd\n",
    "rj-de\n",
    "DN-vd\n",
    "start-VP\n",
    "DN-yb\n",
    "vd-MU\n",
    "DN-rj\n",
    "de-VP\n",
    "yb-OC\n",
    "start-rj\n",
    "oa-MU\n",
    "yb-de\n",
    "oa-VP\n",
    "jv-MU\n",
    "yb-MU\n",
    "end-OC\"\"\""
   ]
  },
  {
   "cell_type": "code",
   "execution_count": 125,
   "metadata": {},
   "outputs": [
    {
     "data": {
      "text/plain": [
       "False"
      ]
     },
     "execution_count": 125,
     "metadata": {},
     "output_type": "execute_result"
    }
   ],
   "source": [
    "class Node:\n",
    "    def __init__(self, name):\n",
    "        self.name = name\n",
    "        self.neighbors = []\n",
    "    def is_big_cave(self):\n",
    "        return self.name.upper() == self.name\n",
    "\n",
    "class Network:\n",
    "    def __init__(self):\n",
    "        self.nodes = {}\n",
    "    def getNode(self, name):\n",
    "        if name in self.nodes:\n",
    "            return self.nodes[name]\n",
    "        else:\n",
    "            self.nodes[name] = Node(name)\n",
    "            return self.nodes[name]\n",
    "\n",
    "def valid_path(path):\n",
    "    nodes = {}\n",
    "    for node in path.split('-'):\n",
    "        if node in nodes:\n",
    "            nodes[node] += 1\n",
    "        else:\n",
    "            nodes[node] = 1\n",
    "    # print(nodes)\n",
    "    double = False\n",
    "    for node in nodes:\n",
    "        if (node.upper() != node) and (nodes[node] == 2):\n",
    "            # print(node.upper())\n",
    "            if double:\n",
    "                return False\n",
    "            else:\n",
    "                double = True\n",
    "        if (node.upper() != node) and (nodes[node] > 2):\n",
    "            return False\n",
    "    return True\n",
    "valid_path('start-b-d-b-A-b-A-b-d-b-d-b-d-b-A-b-A-c-A-b-d')\n"
   ]
  },
  {
   "cell_type": "code",
   "execution_count": 127,
   "metadata": {},
   "outputs": [
    {
     "name": "stdout",
     "output_type": "stream",
     "text": [
      "size: 1\n",
      "size: 4\n",
      "size: 16\n",
      "size: 68\n",
      "size: 275\n",
      "size: 1006\n",
      "size: 3296\n",
      "size: 9431\n",
      "size: 23829\n",
      "size: 53625\n",
      "size: 108210\n",
      "size: 195670\n",
      "size: 313240\n",
      "size: 442435\n",
      "size: 550935\n",
      "size: 608325\n",
      "size: 620089\n"
     ]
    }
   ],
   "source": [
    "network = Network()\n",
    "for line in input.split('\\n'):\n",
    "    caves = line.split('-')\n",
    "    if len(caves) == 2:\n",
    "        first = network.getNode(caves[0])\n",
    "        second = network.getNode(caves[1])\n",
    "        first.neighbors.append(second.name)\n",
    "        second.neighbors.append(first.name)\n",
    "\n",
    "paths = set()\n",
    "lastSize = 0\n",
    "paths.add('start')\n",
    "while lastSize != len(paths):\n",
    "    lastSize = len(paths)\n",
    "    print(f'size: {lastSize}')\n",
    "    new_paths = set()\n",
    "    for path in paths:\n",
    "        lastNode = path.split('-')[-1]\n",
    "        if lastNode != 'end':\n",
    "            for neighbor in network.getNode(lastNode).neighbors:\n",
    "                if neighbor == 'start':\n",
    "                    continue\n",
    "                new_path = f'{path}-{neighbor}'\n",
    "                if valid_path(new_path) and new_path not in paths:\n",
    "                    new_paths.add(new_path)\n",
    "                    # print(new_path)\n",
    "    paths = paths.union(new_paths)"
   ]
  },
  {
   "cell_type": "code",
   "execution_count": 128,
   "metadata": {},
   "outputs": [
    {
     "data": {
      "text/plain": [
       "136767"
      ]
     },
     "execution_count": 128,
     "metadata": {},
     "output_type": "execute_result"
    }
   ],
   "source": [
    "count = 0\n",
    "p = []\n",
    "for path in paths:\n",
    "    lastNode = path.split('-')[-1]\n",
    "    if lastNode == 'end':\n",
    "        count += 1\n",
    "        p.append(path)\n",
    "count"
   ]
  },
  {
   "cell_type": "code",
   "execution_count": null,
   "metadata": {},
   "outputs": [],
   "source": []
  }
 ],
 "metadata": {
  "interpreter": {
   "hash": "31f2aee4e71d21fbe5cf8b01ff0e069b9275f58929596ceb00d14d90e3e16cd6"
  },
  "kernelspec": {
   "display_name": "Python 3.8.9 64-bit",
   "name": "python3"
  },
  "language_info": {
   "codemirror_mode": {
    "name": "ipython",
    "version": 3
   },
   "file_extension": ".py",
   "mimetype": "text/x-python",
   "name": "python",
   "nbconvert_exporter": "python",
   "pygments_lexer": "ipython3",
   "version": "3.8.9"
  },
  "orig_nbformat": 4
 },
 "nbformat": 4,
 "nbformat_minor": 2
}
