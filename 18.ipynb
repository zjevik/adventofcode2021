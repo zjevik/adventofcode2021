{
 "cells": [
  {
   "cell_type": "code",
   "execution_count": 11,
   "metadata": {},
   "outputs": [],
   "source": [
    "import pandas as pd\n",
    "import numpy as np\n",
    "import regex as re"
   ]
  },
  {
   "cell_type": "code",
   "execution_count": 4,
   "metadata": {},
   "outputs": [
    {
     "data": {
      "text/plain": [
       "True"
      ]
     },
     "execution_count": 4,
     "metadata": {},
     "output_type": "execute_result"
    }
   ],
   "source": [
    "isinstance([1,2], list)"
   ]
  },
  {
   "cell_type": "code",
   "execution_count": 6,
   "metadata": {},
   "outputs": [
    {
     "data": {
      "text/plain": [
       "'[1, [2, 3], 4]'"
      ]
     },
     "execution_count": 6,
     "metadata": {},
     "output_type": "execute_result"
    }
   ],
   "source": [
    "str(eval('[1,[2,3],4]'))"
   ]
  },
  {
   "cell_type": "code",
   "execution_count": 9,
   "metadata": {},
   "outputs": [
    {
     "data": {
      "text/plain": [
       "32"
      ]
     },
     "execution_count": 9,
     "metadata": {},
     "output_type": "execute_result"
    }
   ],
   "source": [
    "ord(' ')"
   ]
  },
  {
   "cell_type": "code",
   "execution_count": 29,
   "metadata": {},
   "outputs": [
    {
     "data": {
      "text/plain": [
       "['1', '22', '3', '4']"
      ]
     },
     "execution_count": 29,
     "metadata": {},
     "output_type": "execute_result"
    }
   ],
   "source": [
    "re.findall('([0-9]+)','[1,[22,3],4]')"
   ]
  },
  {
   "cell_type": "code",
   "execution_count": 32,
   "metadata": {},
   "outputs": [
    {
     "name": "stdout",
     "output_type": "stream",
     "text": [
      "['99', '6376827', '1', '2', '767980716']\n"
     ]
    }
   ],
   "source": [
    "s=r\"\"\"99-my-name-is-John-Smith-6376827-%^-1-2-767980716\"\"\"\n",
    "\n",
    "print(re.findall('([0-9]+)',s))"
   ]
  },
  {
   "cell_type": "code",
   "execution_count": 152,
   "metadata": {},
   "outputs": [],
   "source": [
    "# number_num = 0\n",
    "def add_to_left(arr, num):\n",
    "    if isinstance(arr, list) and isinstance(arr[0], list):\n",
    "        add_to_left(arr[0], num)\n",
    "    else:\n",
    "        arr[0] += num\n",
    "def add_to_right(arr, num):\n",
    "    if isinstance(arr, list) and isinstance(arr[-1], list):\n",
    "        add_to_right(arr[-1], num)\n",
    "    else:\n",
    "        arr[-1] += num\n",
    "\n",
    "def reduce_explode(arr, nested_num):\n",
    "    # global number_num\n",
    "    # print(arr, nested_num)\n",
    "\n",
    "    ## check for explosions\n",
    "    if isinstance(arr, list):\n",
    "        for idx in range(len(arr)):\n",
    "            item = arr[idx]\n",
    "            # print(f'item {item}, nested_num: {nested_num}')\n",
    "            if isinstance(item, list) and len(item) == 2 and nested_num == 4:\n",
    "                # print(f'item: {item} should explode; ')\n",
    "                arr[idx] = 0\n",
    "                left = item[0]\n",
    "                right = item[1]\n",
    "                if left and idx > 0:\n",
    "                    if isinstance(arr[idx-1], int):\n",
    "                        arr[idx-1] += left\n",
    "                    else:\n",
    "                        add_to_right(arr[idx-1], left)\n",
    "                    left = None\n",
    "                if right and idx < len(arr)-1:\n",
    "                    if isinstance(arr[idx+1], int):\n",
    "                        arr[idx+1] += right\n",
    "                    else:\n",
    "                        add_to_left(arr[idx+1], right)\n",
    "                    right = None\n",
    "                return left, right, True\n",
    "            elif isinstance(item, list):\n",
    "                left,right,explode = reduce_explode(item, nested_num+1)\n",
    "                # if explode:\n",
    "                #     arr[idx] = 0\n",
    "                # print(arr)\n",
    "                if left and idx > 0:\n",
    "                    if isinstance(arr[idx-1], int):\n",
    "                        arr[idx-1] += left\n",
    "                    else:\n",
    "                        add_to_right(arr[idx-1], left)\n",
    "                    left = None\n",
    "                if right and idx < len(arr)-1:\n",
    "                    if isinstance(arr[idx+1], int):\n",
    "                        arr[idx+1] += right\n",
    "                    else:\n",
    "                        add_to_left(arr[idx+1], right)\n",
    "                    right = None\n",
    "                if explode:\n",
    "                    return left,right,explode\n",
    "                # print(arr)\n",
    "                \n",
    "                # return left,right,explode\n",
    "                \n",
    "    return None,None,False\n",
    "\n",
    "def reduce_split(arr):\n",
    "    # global number_num\n",
    "    # print(arr, nested_num)\n",
    "\n",
    "    ## check for explosions\n",
    "    if isinstance(arr, list):\n",
    "        for idx in range(len(arr)):\n",
    "            item = arr[idx]\n",
    "            if isinstance(item, list):\n",
    "                if reduce_split(item):\n",
    "                    return True\n",
    "            else:\n",
    "                if item >= 10:\n",
    "                    arr[idx] = [int(item/2), item - int(item/2)]\n",
    "                    return True\n",
    "    return False\n",
    "\n",
    "def get_magnitude(arr):\n",
    "    if not isinstance(arr, list):\n",
    "        return arr\n",
    "    for idx in range(len(arr)):\n",
    "        item = arr[idx]\n",
    "        if isinstance(item, list):\n",
    "            arr[idx] = get_magnitude(item)\n",
    "    return 3*arr[0] + 2*arr[1]\n",
    "# a = [[[[[9,8],1],2],3],4]\n",
    "# a = [7,[6,[5,[4,[3,2]]]]]\n",
    "# a = [[6,[5,[4,[3,2]]]],1]\n",
    "# a = [[3,[2,[1,[7,3]]]],[6,[5,[4,[3,2]]]]]\n",
    "# a = [[3,[2,[8,0]]],[9,[5,[4,[3,2]]]]]\n",
    "\n",
    "# a = [[[[[4,3],4],4],[7,[[8,4],9]]] , [1,1]]\n",
    "# a = [[[[0, 7], 4], [7, [[8, 4], 9]]], [1, 1]]\n",
    "# a = [[[[4, 0], [5, 0]], [[[4, 5], [2, 6]], [9, 5]]]]\n",
    "# print(reduce_explode(a,1),a)\n",
    "\n",
    "# a = [[[[0, 7], 4], [15, [0, 13]]], [1, 1]]\n",
    "# a = [[[[0, 7], 4], [[7, 8], [0, 13]]], [1, 1]]\n",
    "# a = [[[[0, 7], 4], [[7, 8], [0, [6, 7]]]], [1, 1]]\n",
    "# print(reduce_split(a),a)\n",
    "\n",
    "# A = [[[[[4,3],4],4],[7,[[8,4],9]]] , [1,1]]\n",
    "# cnt = True\n",
    "# while cnt:\n",
    "#     print(A)\n",
    "#     l,r,cnt = reduce_explode(A,1)\n",
    "#     if cnt:\n",
    "#         continue\n",
    "#     cnt = reduce_split(A)\n",
    "# A"
   ]
  },
  {
   "cell_type": "code",
   "execution_count": 158,
   "metadata": {},
   "outputs": [
    {
     "data": {
      "text/plain": [
       "[[[[6, 6], [7, 6]], [[7, 7], [7, 0]]], [[[7, 7], [7, 7]], [[7, 8], [9, 9]]]]"
      ]
     },
     "execution_count": 158,
     "metadata": {},
     "output_type": "execute_result"
    }
   ],
   "source": [
    "input = \"\"\"[[[0,[5,8]],[[1,7],[9,6]]],[[4,[1,2]],[[1,4],2]]]\n",
    "[[[5,[2,8]],4],[5,[[9,9],0]]]\n",
    "[6,[[[6,2],[5,6]],[[7,6],[4,7]]]]\n",
    "[[[6,[0,7]],[0,9]],[4,[9,[9,0]]]]\n",
    "[[[7,[6,4]],[3,[1,3]]],[[[5,5],1],9]]\n",
    "[[6,[[7,3],[3,2]]],[[[3,8],[5,7]],4]]\n",
    "[[[[5,4],[7,7]],8],[[8,3],8]]\n",
    "[[9,3],[[9,9],[6,[4,9]]]]\n",
    "[[2,[[7,7],7]],[[5,8],[[9,3],[0,2]]]]\n",
    "[[[[5,2],5],[8,[3,7]]],[[5,[7,5]],[4,4]]]\"\"\"\n",
    "\n",
    "arrays = [eval(line) for line in input.split('\\n')]\n",
    "A = arrays.pop(0)\n",
    "while len(arrays) > 0:\n",
    "    A = [A,arrays.pop(0)]\n",
    "    cnt = True\n",
    "    while cnt:\n",
    "        # print(A)\n",
    "        l,r,cnt = reduce_explode(A,1)\n",
    "        if cnt:\n",
    "            continue\n",
    "        cnt = reduce_split(A)\n",
    "A"
   ]
  },
  {
   "cell_type": "code",
   "execution_count": 159,
   "metadata": {},
   "outputs": [
    {
     "data": {
      "text/plain": [
       "4140"
      ]
     },
     "execution_count": 159,
     "metadata": {},
     "output_type": "execute_result"
    }
   ],
   "source": [
    "get_magnitude(A)"
   ]
  },
  {
   "cell_type": "markdown",
   "metadata": {},
   "source": [
    "# part 2"
   ]
  },
  {
   "cell_type": "code",
   "execution_count": 167,
   "metadata": {},
   "outputs": [
    {
     "name": "stdout",
     "output_type": "stream",
     "text": [
      "4536\n"
     ]
    }
   ],
   "source": [
    "input = \"\"\"[[0,6],[[[4,0],[6,6]],[[2,2],9]]]\n",
    "[[9,[[1,6],[6,0]]],[[1,[0,8]],[[0,8],[9,8]]]]\n",
    "[[[0,[2,1]],3],[[[2,4],[1,2]],[7,5]]]\n",
    "[[[[8,3],[8,5]],[[7,8],[5,5]]],[9,2]]\n",
    "[[8,[1,9]],[[[9,9],[9,2]],1]]\n",
    "[[[[3,7],[2,1]],[0,9]],4]\n",
    "[[[[3,8],[6,0]],[0,7]],[[[6,3],[2,0]],9]]\n",
    "[[[9,[7,0]],[8,[9,6]]],[[5,6],4]]\n",
    "[[[[3,6],[3,6]],[0,2]],[[[8,3],9],[[3,4],8]]]\n",
    "[[7,[8,4]],1]\n",
    "[6,[[3,[5,6]],[0,6]]]\n",
    "[[[7,[4,7]],[[4,5],[4,3]]],[[5,5],[0,[4,2]]]]\n",
    "[[[0,[2,9]],[[2,4],[4,8]]],[[8,[9,5]],[[9,6],0]]]\n",
    "[[[[2,0],[9,7]],[[3,2],0]],[7,7]]\n",
    "[[5,[2,1]],[[3,[5,1]],[[8,5],[1,8]]]]\n",
    "[[[[9,7],6],[[7,8],7]],[[[6,8],9],[[9,5],7]]]\n",
    "[[4,2],[[[0,1],[7,2]],[[0,2],[5,5]]]]\n",
    "[[1,8],[[5,[7,9]],[[3,1],[7,1]]]]\n",
    "[[[4,[4,6]],6],5]\n",
    "[[[5,[3,6]],6],[[[8,0],[8,6]],[[3,3],[0,1]]]]\n",
    "[[4,[[2,6],[0,9]]],[[0,6],[4,2]]]\n",
    "[[[[9,4],[6,5]],7],[[[1,5],[0,9]],[4,[4,2]]]]\n",
    "[[7,[[6,5],8]],[[[5,6],0],[6,[3,5]]]]\n",
    "[[[5,[6,4]],[8,[0,4]]],[[3,[9,3]],4]]\n",
    "[[[[4,0],6],[6,[6,5]]],[[9,[6,3]],[[9,6],7]]]\n",
    "[[[[2,2],4],[8,[7,2]]],[2,1]]\n",
    "[5,[9,[[5,9],4]]]\n",
    "[[[1,[7,7]],[[2,2],8]],[[[9,7],5],[4,3]]]\n",
    "[[[[6,8],1],1],[1,[[2,0],6]]]\n",
    "[[[[0,5],8],[[8,9],[9,3]]],[[[5,5],[4,2]],2]]\n",
    "[[[9,[2,5]],[6,[1,7]]],[5,[3,[2,2]]]]\n",
    "[[[7,6],8],[[[1,9],3],[5,2]]]\n",
    "[8,[[2,[0,7]],8]]\n",
    "[[[[8,1],[0,0]],5],1]\n",
    "[[1,[[4,8],0]],[[9,[7,8]],5]]\n",
    "[[[[1,3],1],[[9,8],[6,6]]],5]\n",
    "[[[3,2],[[0,5],[0,1]]],[[9,[9,3]],[4,9]]]\n",
    "[[[0,[2,4]],[[3,3],[6,5]]],[[1,[2,1]],[[3,4],9]]]\n",
    "[[2,[3,[7,6]]],[5,5]]\n",
    "[[[[8,2],0],[[9,6],[9,0]]],[[[6,2],[5,0]],9]]\n",
    "[7,[9,7]]\n",
    "[3,[[[5,5],1],[8,5]]]\n",
    "[[[5,5],[5,6]],[9,5]]\n",
    "[[[9,7],[1,2]],[8,[5,[7,0]]]]\n",
    "[[[1,[5,2]],[7,[8,9]]],[2,[[4,5],[2,3]]]]\n",
    "[[[4,[2,2]],[5,[4,7]]],[[[0,3],2],[5,[2,6]]]]\n",
    "[[0,[[6,5],5]],[[7,[7,2]],3]]\n",
    "[[[4,[9,4]],[1,9]],[7,[[7,1],[6,1]]]]\n",
    "[1,[0,2]]\n",
    "[[[[5,1],[2,1]],[[7,8],6]],[[3,[4,9]],2]]\n",
    "[[9,[[4,0],[8,8]]],[[[6,6],[2,8]],[1,[1,5]]]]\n",
    "[[[1,2],[7,0]],[7,[[3,0],5]]]\n",
    "[[[6,[0,8]],3],[[3,7],1]]\n",
    "[[[[6,1],[1,0]],9],[[4,8],[3,[0,8]]]]\n",
    "[[6,[3,[5,8]]],9]\n",
    "[[[[5,0],[7,7]],[[3,1],[4,8]]],5]\n",
    "[[[3,7],[9,0]],[[[0,2],7],0]]\n",
    "[8,9]\n",
    "[[8,[[0,8],4]],[1,[[4,6],2]]]\n",
    "[[[5,5],3],[[6,6],[0,[6,3]]]]\n",
    "[[[7,[3,7]],[[6,1],[9,4]]],[[[8,9],1],[[8,7],6]]]\n",
    "[[6,[[0,9],[2,3]]],[[1,[5,3]],[8,4]]]\n",
    "[[[3,5],8],[[[2,4],[7,5]],5]]\n",
    "[[0,[[7,0],[9,4]]],[[[0,0],[6,7]],[6,5]]]\n",
    "[[[[1,9],[6,4]],0],[6,[3,[4,8]]]]\n",
    "[[[[1,6],[0,4]],8],[[8,8],6]]\n",
    "[[[[7,4],[9,6]],7],[[1,6],[1,0]]]\n",
    "[1,[[[6,8],5],5]]\n",
    "[8,4]\n",
    "[9,[[9,[3,9]],0]]\n",
    "[5,[[[4,9],7],[[1,0],0]]]\n",
    "[[[6,1],[0,[2,3]]],[[[7,8],[5,9]],9]]\n",
    "[3,[[3,[3,4]],[6,[7,8]]]]\n",
    "[[[7,[7,1]],[4,[2,0]]],[6,[7,3]]]\n",
    "[[6,9],[[3,[4,7]],3]]\n",
    "[1,[[9,[5,1]],[7,[7,5]]]]\n",
    "[[3,2],[[9,[6,8]],[[1,0],2]]]\n",
    "[[[[3,2],8],[7,6]],9]\n",
    "[[3,[[9,5],6]],[5,9]]\n",
    "[[[3,[6,3]],[[7,0],[5,7]]],[[3,3],[[4,9],[4,8]]]]\n",
    "[[[0,[4,3]],2],[3,[0,[1,3]]]]\n",
    "[[[7,[3,4]],[7,[3,1]]],[[0,[4,7]],6]]\n",
    "[[[1,[7,4]],[[8,7],3]],4]\n",
    "[[[5,5],[[0,3],2]],[1,[[9,4],6]]]\n",
    "[[[[6,0],[8,8]],[6,[6,0]]],[5,6]]\n",
    "[[[1,[5,4]],[[5,9],[1,7]]],[[5,[4,7]],[4,[4,4]]]]\n",
    "[[0,[[2,6],0]],[[6,[4,3]],5]]\n",
    "[[[1,[5,3]],[9,[1,2]]],[[[4,8],[5,6]],0]]\n",
    "[[0,7],[1,[7,7]]]\n",
    "[4,[[7,[7,2]],[[9,1],7]]]\n",
    "[2,[[1,6],[6,9]]]\n",
    "[[[4,[4,5]],9],[[[1,7],6],[3,[7,3]]]]\n",
    "[[6,[[1,1],[7,8]]],[[[5,2],[8,1]],5]]\n",
    "[[[5,5],[[4,1],[1,2]]],[[3,8],[3,4]]]\n",
    "[[[[1,9],[0,3]],[4,[0,9]]],4]\n",
    "[[[4,9],0],[[9,0],[8,[7,5]]]]\n",
    "[[6,[5,3]],[[[6,6],4],[[6,8],4]]]\n",
    "[[[[1,1],2],1],[1,[[6,4],2]]]\n",
    "[[[[6,3],[1,5]],[6,[7,7]]],[6,6]]\n",
    "[[[[3,0],[5,6]],1],[[[9,3],[1,7]],[[3,4],[2,7]]]]\"\"\"\n",
    "\n",
    "arrays = [eval(line) for line in input.split('\\n')]\n",
    "max_mag = 0\n",
    "pair = ()\n",
    "for idx in range(len(arrays)):\n",
    "    for idy in range(len(arrays)):\n",
    "        if idx == idy:\n",
    "            continue\n",
    "        A = [eval(str(arrays[idx])),eval(str(arrays[idy]))]\n",
    "        cnt = True\n",
    "        while cnt:\n",
    "            l,r,cnt = reduce_explode(A,1)\n",
    "            if cnt:\n",
    "                continue\n",
    "            cnt = reduce_split(A)\n",
    "        max_mag = max(max_mag, get_magnitude(A)) \n",
    "        pair = [arrays[idx],arrays[idy]]\n",
    "print(max_mag)"
   ]
  },
  {
   "cell_type": "code",
   "execution_count": null,
   "metadata": {},
   "outputs": [],
   "source": []
  },
  {
   "cell_type": "code",
   "execution_count": null,
   "metadata": {},
   "outputs": [],
   "source": []
  }
 ],
 "metadata": {
  "interpreter": {
   "hash": "31f2aee4e71d21fbe5cf8b01ff0e069b9275f58929596ceb00d14d90e3e16cd6"
  },
  "kernelspec": {
   "display_name": "Python 3.8.9 64-bit",
   "name": "python3"
  },
  "language_info": {
   "codemirror_mode": {
    "name": "ipython",
    "version": 3
   },
   "file_extension": ".py",
   "mimetype": "text/x-python",
   "name": "python",
   "nbconvert_exporter": "python",
   "pygments_lexer": "ipython3",
   "version": "3.10.1"
  },
  "orig_nbformat": 4
 },
 "nbformat": 4,
 "nbformat_minor": 2
}
