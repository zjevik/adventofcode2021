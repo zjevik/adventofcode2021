{
 "cells": [
  {
   "cell_type": "code",
   "execution_count": 1,
   "metadata": {},
   "outputs": [],
   "source": [
    "import pandas as pd\n",
    "import numpy as np"
   ]
  },
  {
   "cell_type": "code",
   "execution_count": 68,
   "metadata": {},
   "outputs": [],
   "source": [
    "input=\"\"\"\"\"\""
   ]
  },
  {
   "cell_type": "code",
   "execution_count": 41,
   "metadata": {},
   "outputs": [],
   "source": [
    "file1 = open('5.txt', 'r')\n",
    "Lines = file1.readlines()"
   ]
  },
  {
   "cell_type": "code",
   "execution_count": 28,
   "metadata": {},
   "outputs": [],
   "source": [
    "arr = []\n",
    "def ensure_arr(arr, m):\n",
    "    if m > len(arr):\n",
    "        tmp_arr = [[0 for x in range(m)] for x in range(m)]\n",
    "        for x in range(len(arr)):\n",
    "            for y in range(len(arr)):\n",
    "                tmp_arr[y][x] = arr[y][x]\n",
    "        return tmp_arr\n",
    "    return arr\n"
   ]
  },
  {
   "cell_type": "code",
   "execution_count": null,
   "metadata": {},
   "outputs": [],
   "source": [
    "#part 1\n",
    "# calls = [int(x) for x in Lines[0].split('\\n')[0].split(',')]\n",
    "# print(calls)\n",
    "arr = []\n",
    "for line in Lines:\n",
    "    beg, end = line.split(' -> ')\n",
    "    x1,y1 = beg.split(',')\n",
    "    x2,y2 = end.split(',')\n",
    "    x1 = int(x1)\n",
    "    x2 = int(x2)\n",
    "    y1 = int(y1)\n",
    "    y2 = int(y2)\n",
    "    if x1 > x2:\n",
    "        x = x1\n",
    "        x1 = x2\n",
    "        x2 = x\n",
    "    if y1 > y2:\n",
    "        y = y1\n",
    "        y1 = y2\n",
    "        y2 = y\n",
    "        \n",
    "    if (x1 == x2) or (y1 == y2):\n",
    "        # print(x1,y1,x2,y2)\n",
    "        arr = ensure_arr(arr, max(x1,x2,y1,y2)+1)\n",
    "        for x in range(x1,x2+1):\n",
    "            for y in range(y1,y2+1):\n",
    "                arr[y][x] += 1\n",
    "# arr\n",
    "\n",
    "\n",
    "# marks[0:3]"
   ]
  },
  {
   "cell_type": "code",
   "execution_count": 71,
   "metadata": {},
   "outputs": [],
   "source": [
    "# calls = [int(x) for x in Lines[0].split('\\n')[0].split(',')]\n",
    "# print(calls)\n",
    "file1 = open('5.txt', 'r')\n",
    "Lines = file1.readlines()\n",
    "arr = []\n",
    "for line in Lines:\n",
    "    beg, end = line.split(' -> ')\n",
    "    x1,y1 = beg.split(',')\n",
    "    x2,y2 = end.split(',')\n",
    "    x1 = int(x1)\n",
    "    x2 = int(x2)\n",
    "    y1 = int(y1)\n",
    "    y2 = int(y2)\n",
    "    arr = ensure_arr(arr, max(x1,x2,y1,y2)+1)\n",
    "    if (x1 == x2) or (y1 == y2):\n",
    "        # print(x1,y1,x2,y2)\n",
    "        # arr = ensure_arr(arr, max(x1,x2,y1,y2)+1)\n",
    "        if x1 > x2:\n",
    "            x = x1\n",
    "            x1 = x2\n",
    "            x2 = x\n",
    "        if y1 > y2:\n",
    "            y = y1\n",
    "            y1 = y2\n",
    "            y2 = y\n",
    "        for x in range(x1,x2+1):\n",
    "            for y in range(y1,y2+1):\n",
    "                arr[y][x] += 1\n",
    "    else:\n",
    "        x_dir = 1 if x2 > x1 else -1\n",
    "        y_dir = 1 if y2 > y1 else -1\n",
    "        for t in range(abs(x2-x1)+1):\n",
    "            arr[y1+t*y_dir][x1+t*x_dir] += 1\n",
    "# arr\n",
    "\n",
    "\n",
    "# marks[0:3]"
   ]
  },
  {
   "cell_type": "code",
   "execution_count": 72,
   "metadata": {},
   "outputs": [
    {
     "data": {
      "text/plain": [
       "18864"
      ]
     },
     "execution_count": 72,
     "metadata": {},
     "output_type": "execute_result"
    }
   ],
   "source": [
    "sum = 0\n",
    "for x in range(len(arr)):\n",
    "    # print()\n",
    "    for y in range(len(arr)):\n",
    "        # print()\n",
    "        if arr[y][x] > 1:\n",
    "            sum += 1\n",
    "sum"
   ]
  },
  {
   "cell_type": "code",
   "execution_count": null,
   "metadata": {},
   "outputs": [],
   "source": []
  }
 ],
 "metadata": {
  "interpreter": {
   "hash": "31f2aee4e71d21fbe5cf8b01ff0e069b9275f58929596ceb00d14d90e3e16cd6"
  },
  "kernelspec": {
   "display_name": "Python 3.8.9 64-bit",
   "name": "python3"
  },
  "language_info": {
   "codemirror_mode": {
    "name": "ipython",
    "version": 3
   },
   "file_extension": ".py",
   "mimetype": "text/x-python",
   "name": "python",
   "nbconvert_exporter": "python",
   "pygments_lexer": "ipython3",
   "version": "3.8.9"
  },
  "orig_nbformat": 4
 },
 "nbformat": 4,
 "nbformat_minor": 2
}
