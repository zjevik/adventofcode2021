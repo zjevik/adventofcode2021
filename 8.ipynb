{
 "cells": [
  {
   "cell_type": "code",
   "execution_count": 1,
   "metadata": {},
   "outputs": [],
   "source": [
    "import pandas as pd\n",
    "import numpy as np"
   ]
  },
  {
   "cell_type": "code",
   "execution_count": 80,
   "metadata": {},
   "outputs": [],
   "source": [
    "input=\"\"\"be cfbegad cbdgef fgaecd cgeb fdcge agebfd fecdb fabcd edb | fdgacbe cefdb cefbgd gcbe\n",
    "edbfga begcd cbg gc gcadebf fbgde acbgfd abcde gfcbed gfec | fcgedb cgb dgebacf gc\n",
    "fgaebd cg bdaec gdafb agbcfd gdcbef bgcad gfac gcb cdgabef | cg cg fdcagb cbg\n",
    "fbegcd cbd adcefb dageb afcb bc aefdc ecdab fgdeca fcdbega | efabcd cedba gadfec cb\n",
    "aecbfdg fbg gf bafeg dbefa fcge gcbea fcaegb dgceab fcbdga | gecf egdcabf bgf bfgea\n",
    "fgeab ca afcebg bdacfeg cfaedg gcfdb baec bfadeg bafgc acf | gebdcfa ecba ca fadegcb\n",
    "dbcfg fgd bdegcaf fgec aegbdf ecdfab fbedc dacgb gdcebf gf | cefg dcbef fcge gbcadfe\n",
    "bdfegc cbegaf gecbf dfcage bdacg ed bedf ced adcbefg gebcd | ed bcgafe cdgba cbgef\n",
    "egadfb cdbfeg cegd fecab cgb gbdefca cg fgcdab egfdb bfceg | gbdfcae bgc cg cgb\n",
    "gcafb gcf dcaebfg ecagb gf abcdeg gaef cafbge fdbac fegbdc | fgae cfgab fg bagce\"\"\""
   ]
  },
  {
   "cell_type": "code",
   "execution_count": 90,
   "metadata": {},
   "outputs": [
    {
     "data": {
      "text/plain": [
       "[['dcga',\n",
       "  'cadgbfe',\n",
       "  'gecba',\n",
       "  'cbfde',\n",
       "  'eda',\n",
       "  'cdbea',\n",
       "  'gbadfe',\n",
       "  'fegcba',\n",
       "  'bedgca',\n",
       "  'da'],\n",
       " ['bgefdac', 'bdace', 'ad', 'agcd']]"
      ]
     },
     "execution_count": 90,
     "metadata": {},
     "output_type": "execute_result"
    }
   ],
   "source": [
    "arr_in = [[y.split(' ') for y in x.split(' | ')] for x in input.split('\\n')]\n",
    "arr_in[0]"
   ]
  },
  {
   "cell_type": "code",
   "execution_count": null,
   "metadata": {},
   "outputs": [],
   "source": [
    "def remove_str(i, remove):\n",
    "    tmp = i\n",
    "    for c in remove:\n",
    "        tmp = tmp.replace(c,'')\n",
    "    return tmp\n",
    "def get_digit(ans,string):\n",
    "    dig = ['abcefg','cf','acdeg','acdfg','bcdf','abdfg','abdefg','acf','abcdefg','abcdfg']\n",
    "    tmp = ''.join(sorted(''.join([chr(ord('a')+ans.index(c)) for c in string])))\n",
    "    return dig.index(tmp)"
   ]
  },
  {
   "cell_type": "code",
   "execution_count": 93,
   "metadata": {},
   "outputs": [
    {
     "data": {
      "text/plain": [
       "479"
      ]
     },
     "execution_count": 93,
     "metadata": {},
     "output_type": "execute_result"
    }
   ],
   "source": [
    "# part one\n",
    "answer = 0\n",
    "for case in arr_in:\n",
    "    # case = arr_in[0]\n",
    "    digits = case[0]\n",
    "    output = case[1]\n",
    "    ans = ['' for x in range(7)]\n",
    "    counts = [0 for x in range(7)]\n",
    "    for digit in digits:\n",
    "        for c in digit:\n",
    "            counts[ord(c)-ord('a')] += 1\n",
    "\n",
    "    #get a (8 times)\n",
    "    t = sorted([x for x in digits if len(x) <= 3], key=lambda x: len(x))\n",
    "    ans[0] = remove_str(t[1],t[0])\n",
    "    ans\n",
    "\n",
    "    #get b (6 times)\n",
    "    ans[1] = chr(ord('a')+counts.index(6))\n",
    "\n",
    "    #get e (4 times)\n",
    "    ans[4] = chr(ord('a')+counts.index(4))\n",
    "\n",
    "    #get f (9 times)\n",
    "    ans[5] = chr(ord('a')+counts.index(9))\n",
    "\n",
    "    #get c (8 times)\n",
    "    t = [x for x in range(7) if counts[x] == 8]\n",
    "    if ans.count(chr(ord('a')+t[0])) == 0:\n",
    "        ans[2] = chr(ord('a')+t[0])\n",
    "    else:\n",
    "        ans[2] = chr(ord('a')+t[1])\n",
    "\n",
    "    #get d (7 times) using digit 4\n",
    "    t = [x for x in digits if len(x) == 4][0]\n",
    "    ans[3] = remove_str(t,f'{ans[1]}{ans[2]}{ans[5]}')\n",
    "\n",
    "    #get g (7 times)\n",
    "    ans[6] = remove_str('abcdefg',''.join(ans))\n",
    "\n",
    "\n",
    "    out = [get_digit(ans,o) for o in output]\n",
    "    answer += out.count(1)\n",
    "    answer += out.count(4)\n",
    "    answer += out.count(7)\n",
    "    answer += out.count(8)\n",
    "answer"
   ]
  },
  {
   "cell_type": "code",
   "execution_count": 92,
   "metadata": {},
   "outputs": [
    {
     "data": {
      "text/plain": [
       "1041746"
      ]
     },
     "execution_count": 92,
     "metadata": {},
     "output_type": "execute_result"
    }
   ],
   "source": [
    "# part two\n",
    "answer = 0\n",
    "for case in arr_in:\n",
    "    # case = arr_in[0]\n",
    "    digits = case[0]\n",
    "    output = case[1]\n",
    "    ans = ['' for x in range(7)]\n",
    "    counts = [0 for x in range(7)]\n",
    "    for digit in digits:\n",
    "        for c in digit:\n",
    "            counts[ord(c)-ord('a')] += 1\n",
    "\n",
    "    #get a (8 times)\n",
    "    t = sorted([x for x in digits if len(x) <= 3], key=lambda x: len(x))\n",
    "    ans[0] = remove_str(t[1],t[0])\n",
    "    ans\n",
    "\n",
    "    #get b (6 times)\n",
    "    ans[1] = chr(ord('a')+counts.index(6))\n",
    "\n",
    "    #get e (4 times)\n",
    "    ans[4] = chr(ord('a')+counts.index(4))\n",
    "\n",
    "    #get f (9 times)\n",
    "    ans[5] = chr(ord('a')+counts.index(9))\n",
    "\n",
    "    #get c (8 times)\n",
    "    t = [x for x in range(7) if counts[x] == 8]\n",
    "    if ans.count(chr(ord('a')+t[0])) == 0:\n",
    "        ans[2] = chr(ord('a')+t[0])\n",
    "    else:\n",
    "        ans[2] = chr(ord('a')+t[1])\n",
    "\n",
    "    #get d (7 times) using digit 4\n",
    "    t = [x for x in digits if len(x) == 4][0]\n",
    "    ans[3] = remove_str(t,f'{ans[1]}{ans[2]}{ans[5]}')\n",
    "\n",
    "    #get g (7 times)\n",
    "    ans[6] = remove_str('abcdefg',''.join(ans))\n",
    "\n",
    "\n",
    "    out = int(''.join([str(get_digit(ans,o)) for o in output]))\n",
    "    # print(out)\n",
    "    answer += out\n",
    "    # answer += out.count(4)\n",
    "    # answer += out.count(7)\n",
    "    # answer += out.count(8)\n",
    "answer"
   ]
  },
  {
   "cell_type": "code",
   "execution_count": null,
   "metadata": {},
   "outputs": [],
   "source": []
  }
 ],
 "metadata": {
  "interpreter": {
   "hash": "31f2aee4e71d21fbe5cf8b01ff0e069b9275f58929596ceb00d14d90e3e16cd6"
  },
  "kernelspec": {
   "display_name": "Python 3.8.9 64-bit",
   "name": "python3"
  },
  "language_info": {
   "codemirror_mode": {
    "name": "ipython",
    "version": 3
   },
   "file_extension": ".py",
   "mimetype": "text/x-python",
   "name": "python",
   "nbconvert_exporter": "python",
   "pygments_lexer": "ipython3",
   "version": "3.8.9"
  },
  "orig_nbformat": 4
 },
 "nbformat": 4,
 "nbformat_minor": 2
}
