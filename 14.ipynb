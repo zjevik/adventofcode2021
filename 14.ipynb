{
 "cells": [
  {
   "cell_type": "code",
   "execution_count": 1,
   "metadata": {},
   "outputs": [],
   "source": [
    "import pandas as pd\n",
    "import numpy as np"
   ]
  },
  {
   "cell_type": "code",
   "execution_count": 55,
   "metadata": {},
   "outputs": [],
   "source": [
    "pol = \"SCVHKHVSHPVCNBKBPVHV\"\n",
    "input=\"\"\"SB -> B\n",
    "HH -> P\n",
    "VF -> N\n",
    "BS -> S\n",
    "NC -> C\n",
    "BF -> H\n",
    "BN -> H\n",
    "SP -> H\n",
    "BK -> H\n",
    "FF -> N\n",
    "VN -> B\n",
    "FN -> C\n",
    "FS -> S\n",
    "PP -> F\n",
    "ON -> H\n",
    "FV -> F\n",
    "KO -> F\n",
    "PK -> H\n",
    "VB -> S\n",
    "HS -> B\n",
    "NV -> O\n",
    "PN -> S\n",
    "VH -> B\n",
    "OS -> P\n",
    "BP -> H\n",
    "OV -> B\n",
    "HK -> S\n",
    "NN -> K\n",
    "SV -> C\n",
    "PB -> F\n",
    "SK -> F\n",
    "FB -> S\n",
    "NB -> K\n",
    "HF -> P\n",
    "FK -> K\n",
    "KV -> P\n",
    "PV -> F\n",
    "BC -> S\n",
    "FO -> N\n",
    "HC -> F\n",
    "CP -> B\n",
    "KK -> F\n",
    "PC -> S\n",
    "HN -> O\n",
    "SH -> H\n",
    "CK -> P\n",
    "CO -> F\n",
    "HP -> K\n",
    "PS -> C\n",
    "KP -> F\n",
    "OF -> K\n",
    "KS -> F\n",
    "NO -> V\n",
    "CB -> K\n",
    "NF -> N\n",
    "SF -> F\n",
    "SC -> P\n",
    "FC -> V\n",
    "BV -> B\n",
    "SS -> O\n",
    "KC -> K\n",
    "FH -> C\n",
    "OP -> C\n",
    "CF -> K\n",
    "VO -> V\n",
    "VK -> H\n",
    "KH -> O\n",
    "NP -> V\n",
    "NH -> O\n",
    "NS -> V\n",
    "BH -> C\n",
    "CH -> S\n",
    "CC -> F\n",
    "CS -> P\n",
    "SN -> F\n",
    "BO -> S\n",
    "NK -> S\n",
    "OO -> P\n",
    "VV -> F\n",
    "FP -> V\n",
    "OK -> C\n",
    "SO -> H\n",
    "KN -> P\n",
    "HO -> O\n",
    "PO -> H\n",
    "VS -> N\n",
    "PF -> N\n",
    "CV -> F\n",
    "BB -> H\n",
    "VC -> H\n",
    "HV -> B\n",
    "CN -> S\n",
    "OH -> K\n",
    "KF -> K\n",
    "HB -> S\n",
    "OC -> H\n",
    "KB -> P\n",
    "OB -> C\n",
    "VP -> C\n",
    "PH -> K\"\"\""
   ]
  },
  {
   "cell_type": "code",
   "execution_count": 56,
   "metadata": {},
   "outputs": [],
   "source": [
    "replace = {}\n",
    "\n",
    "for line in input.split('\\n'):\n",
    "    c = line.split(' -> ')\n",
    "    replace[c[0]] = c[1]\n",
    "# replace"
   ]
  },
  {
   "cell_type": "code",
   "execution_count": 57,
   "metadata": {},
   "outputs": [],
   "source": [
    "pairs = {}\n",
    "for pos in range(len(pol)-1):\n",
    "    if pol[pos:pos+2] in pairs:\n",
    "        pairs[pol[pos:pos+2]] += 1\n",
    "    else:\n",
    "        pairs[pol[pos:pos+2]] = 1\n",
    "\n",
    "for r in range(40):\n",
    "    new_pairs = {}\n",
    "    for pair in pairs:\n",
    "        if pair in replace:\n",
    "            # print(f'pair: {pair}; pairs: {pairs}')\n",
    "            new_pair = (pair[0]+replace[pair], replace[pair]+pair[1])\n",
    "            # print(f'new_pairs: {new_pair}, pairs[pair]: {pairs[pair]}')\n",
    "            for p in new_pair:\n",
    "                if p in new_pairs:\n",
    "                    new_pairs[p] += pairs[pair]\n",
    "                else:\n",
    "                    new_pairs[p] = pairs[pair]\n",
    "            # print(f'pair: {pair}; pairs: {pairs}')\n",
    "            # pairs[pair] -= 1\n",
    "            # if pairs[pair] == 0:\n",
    "            #     pairs.pop(pair)\n",
    "    pairs = new_pairs\n",
    "# pairs"
   ]
  },
  {
   "cell_type": "code",
   "execution_count": 58,
   "metadata": {},
   "outputs": [],
   "source": [
    "counts = {}\n",
    "for c in pairs:\n",
    "    if c[0] in counts:\n",
    "        counts[c[0]] += pairs[c]\n",
    "    else:\n",
    "        counts[c[0]] = pairs[c]\n",
    "    if c[1] in counts:\n",
    "            counts[c[1]] += pairs[c]\n",
    "    else:\n",
    "        counts[c[1]] = pairs[c]\n",
    "for c in counts:\n",
    "    counts[c] = round((counts[c]+0.2)/2)\n",
    "        \n",
    "c_min = sorted(counts, key=lambda x:counts[x])[0]\n",
    "c_max = sorted(counts, key=lambda x:counts[x])[-1]"
   ]
  },
  {
   "cell_type": "code",
   "execution_count": 59,
   "metadata": {},
   "outputs": [
    {
     "data": {
      "text/plain": [
       "{'S': 1417142739437,\n",
       " 'H': 1096677454477,\n",
       " 'P': 1070784974007,\n",
       " 'K': 8768088887348,\n",
       " 'F': 5076845599857,\n",
       " 'O': 501997855258,\n",
       " 'B': 829543540480,\n",
       " 'V': 431465827781,\n",
       " 'C': 937770317181,\n",
       " 'N': 760403731919}"
      ]
     },
     "execution_count": 59,
     "metadata": {},
     "output_type": "execute_result"
    }
   ],
   "source": [
    "counts"
   ]
  },
  {
   "cell_type": "code",
   "execution_count": 60,
   "metadata": {},
   "outputs": [
    {
     "data": {
      "text/plain": [
       "8336623059567"
      ]
     },
     "execution_count": 60,
     "metadata": {},
     "output_type": "execute_result"
    }
   ],
   "source": [
    "counts[c_max]-counts[c_min]"
   ]
  },
  {
   "cell_type": "code",
   "execution_count": 6,
   "metadata": {},
   "outputs": [
    {
     "ename": "TypeError",
     "evalue": "'int' object is not callable",
     "output_type": "error",
     "traceback": [
      "\u001b[0;31m---------------------------------------------------------------------------\u001b[0m",
      "\u001b[0;31mTypeError\u001b[0m                                 Traceback (most recent call last)",
      "\u001b[0;32m/var/folders/rr/ww1ckxfx54bftbc06_4b_7bc0000gn/T/ipykernel_34124/3982720981.py\u001b[0m in \u001b[0;36m<module>\u001b[0;34m\u001b[0m\n\u001b[0;32m----> 1\u001b[0;31m \u001b[0mround\u001b[0m\u001b[0;34m(\u001b[0m\u001b[0;36m0.3\u001b[0m\u001b[0;34m)\u001b[0m\u001b[0;34m\u001b[0m\u001b[0;34m\u001b[0m\u001b[0m\n\u001b[0m",
      "\u001b[0;31mTypeError\u001b[0m: 'int' object is not callable"
     ]
    }
   ],
   "source": [
    "round(0.3)"
   ]
  },
  {
   "cell_type": "code",
   "execution_count": null,
   "metadata": {},
   "outputs": [],
   "source": []
  }
 ],
 "metadata": {
  "interpreter": {
   "hash": "31f2aee4e71d21fbe5cf8b01ff0e069b9275f58929596ceb00d14d90e3e16cd6"
  },
  "kernelspec": {
   "display_name": "Python 3.8.9 64-bit",
   "name": "python3"
  },
  "language_info": {
   "codemirror_mode": {
    "name": "ipython",
    "version": 3
   },
   "file_extension": ".py",
   "mimetype": "text/x-python",
   "name": "python",
   "nbconvert_exporter": "python",
   "pygments_lexer": "ipython3",
   "version": "3.8.9"
  },
  "orig_nbformat": 4
 },
 "nbformat": 4,
 "nbformat_minor": 2
}
