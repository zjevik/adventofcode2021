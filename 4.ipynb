{
 "cells": [
  {
   "cell_type": "code",
   "execution_count": 68,
   "metadata": {},
   "outputs": [],
   "source": [
    "input=\"\"\"\"\"\""
   ]
  },
  {
   "cell_type": "code",
   "execution_count": 173,
   "metadata": {},
   "outputs": [],
   "source": [
    "file1 = open('4.txt', 'r')\n",
    "Lines = file1.readlines()"
   ]
  },
  {
   "cell_type": "code",
   "execution_count": 174,
   "metadata": {},
   "outputs": [],
   "source": [
    "calls = [int(x) for x in Lines[0].split('\\n')[0].split(',')]\n",
    "# print(calls)\n",
    "boards = []\n",
    "board = None\n",
    "for line in Lines[1:]:\n",
    "    if line == '\\n':\n",
    "        boards.append(board)\n",
    "        board = []\n",
    "    else:\n",
    "        # print(line.replace('\\n','').replace('  ',' ').split(' '))\n",
    "        board.append([int(x) for x in line.replace('\\n','').replace('  ',' ').strip().split(' ')])\n",
    "boards.append(board)\n",
    "boards = [x for x in boards if x is not None]\n",
    "boards[0:3]\n",
    "marks = []\n",
    "for i in boards:\n",
    "    marks.append([[0 for y in range(5)] for x in range(5)])\n",
    "\n",
    "# marks[0:3]"
   ]
  },
  {
   "cell_type": "code",
   "execution_count": 175,
   "metadata": {},
   "outputs": [],
   "source": [
    "def call(boards, marks, number):\n",
    "    for board_num in range(len(boards)):\n",
    "        board = boards[board_num]\n",
    "        mark = marks[board_num]\n",
    "        for x in range(5):\n",
    "            for y in range(5):\n",
    "                if board[x][y] == number:\n",
    "                    mark[x][y] = 1\n",
    "    return boards, marks\n",
    "def check_boards(boards, marks):\n",
    "    for board_num in range(len(boards)):\n",
    "        board = boards[board_num]\n",
    "        mark = marks[board_num]\n",
    "        for x in range(5):\n",
    "            if sum([mark[x][y] for y in range(5)]) == 5:\n",
    "                return board, mark, board_num\n",
    "            if sum([mark[y][x] for y in range(5)]) == 5:\n",
    "                return board, mark, board_num\n",
    "    return None\n",
    "def get_sum(board,mark):\n",
    "    sum = 0\n",
    "    for x in range(5):\n",
    "        for y in range(5):\n",
    "            if mark[x][y] == 0:\n",
    "                sum += board[x][y]\n",
    "    return sum"
   ]
  },
  {
   "cell_type": "code",
   "execution_count": 176,
   "metadata": {},
   "outputs": [
    {
     "name": "stdout",
     "output_type": "stream",
     "text": [
      "[[51, 34, 66, 87, 17], [20, 54, 74, 14, 55], [84, 64, 96, 31, 2], [62, 43, 76, 5, 45], [98, 71, 50, 56, 82]] [[1, 1, 1, 1, 1], [0, 0, 1, 1, 1], [0, 0, 1, 1, 1], [1, 1, 0, 1, 0], [1, 1, 1, 1, 0]]\n",
      "87\n"
     ]
    }
   ],
   "source": [
    "# c = calls[0]\n",
    "# boards, marks = call(boards, marks, c)\n",
    "for c in calls:\n",
    "    boards, marks = call(boards, marks, c)\n",
    "    while check_boards(boards, marks) is not None:\n",
    "        board, mark, board_num = check_boards(boards, marks)\n",
    "        # print(len(boards))\n",
    "        boards.pop(board_num)\n",
    "        marks.pop(board_num)\n",
    "        if len(boards) == 0:\n",
    "            print(board,mark)\n",
    "            print(c)\n",
    "            break"
   ]
  },
  {
   "cell_type": "code",
   "execution_count": 177,
   "metadata": {},
   "outputs": [],
   "source": [
    "board = [[51, 34, 66, 87, 17], [20, 54, 74, 14, 55], [84, 64, 96, 31, 2], [62, 43, 76, 5, 45], [98, 71, 50, 56, 82]]\n",
    "mark = [[1, 1, 1, 1, 1], [0, 0, 1, 1, 1], [0, 0, 1, 1, 1], [1, 1, 0, 1, 0], [1, 1, 1, 1, 0]]\n",
    "c=87"
   ]
  },
  {
   "cell_type": "code",
   "execution_count": 178,
   "metadata": {},
   "outputs": [
    {
     "data": {
      "text/plain": [
       "[[51, 34, 66, 87, 17],\n",
       " [20, 54, 74, 14, 55],\n",
       " [84, 64, 96, 31, 2],\n",
       " [62, 43, 76, 5, 45],\n",
       " [98, 71, 50, 56, 82]]"
      ]
     },
     "execution_count": 178,
     "metadata": {},
     "output_type": "execute_result"
    }
   ],
   "source": [
    "board"
   ]
  },
  {
   "cell_type": "code",
   "execution_count": 179,
   "metadata": {},
   "outputs": [
    {
     "data": {
      "text/plain": [
       "[[1, 1, 1, 1, 1],\n",
       " [0, 0, 1, 1, 1],\n",
       " [0, 0, 1, 1, 1],\n",
       " [1, 1, 0, 1, 0],\n",
       " [1, 1, 1, 1, 0]]"
      ]
     },
     "execution_count": 179,
     "metadata": {},
     "output_type": "execute_result"
    }
   ],
   "source": [
    "mark"
   ]
  },
  {
   "cell_type": "code",
   "execution_count": 180,
   "metadata": {},
   "outputs": [
    {
     "data": {
      "text/plain": [
       "425"
      ]
     },
     "execution_count": 180,
     "metadata": {},
     "output_type": "execute_result"
    }
   ],
   "source": [
    "# board, mark = check_boards(boards, marks)\n",
    "get_sum(board, mark)"
   ]
  },
  {
   "cell_type": "code",
   "execution_count": 181,
   "metadata": {},
   "outputs": [
    {
     "data": {
      "text/plain": [
       "36975"
      ]
     },
     "execution_count": 181,
     "metadata": {},
     "output_type": "execute_result"
    }
   ],
   "source": [
    "c*get_sum(board, mark)"
   ]
  },
  {
   "cell_type": "code",
   "execution_count": 37,
   "metadata": {},
   "outputs": [
    {
     "name": "stdout",
     "output_type": "stream",
     "text": [
      "10110\n",
      "01001\n"
     ]
    }
   ],
   "source": [
    "count = 0\n",
    "arr = [0 for x in range(5)]\n",
    "for line in input.split('\\n'):\n",
    "    for p in range(len(line)):\n",
    "        arr[p] += int(line[p])\n",
    "    count += 1\n",
    "# print(count)\n",
    "# print(arr)\n",
    "print(\"\".join([str(round(x/count)) for x in arr]))\n",
    "print(\"\".join([str(abs(1-round(x/count))) for x in arr]))"
   ]
  },
  {
   "cell_type": "code",
   "execution_count": 76,
   "metadata": {},
   "outputs": [],
   "source": [
    "import pandas as pd"
   ]
  },
  {
   "cell_type": "code",
   "execution_count": 86,
   "metadata": {},
   "outputs": [],
   "source": [
    "df = pd.DataFrame([[int(c) for c in line] for line in input.split('\\n')])"
   ]
  },
  {
   "cell_type": "code",
   "execution_count": 87,
   "metadata": {},
   "outputs": [
    {
     "data": {
      "text/html": [
       "<div>\n",
       "<style scoped>\n",
       "    .dataframe tbody tr th:only-of-type {\n",
       "        vertical-align: middle;\n",
       "    }\n",
       "\n",
       "    .dataframe tbody tr th {\n",
       "        vertical-align: top;\n",
       "    }\n",
       "\n",
       "    .dataframe thead th {\n",
       "        text-align: right;\n",
       "    }\n",
       "</style>\n",
       "<table border=\"1\" class=\"dataframe\">\n",
       "  <thead>\n",
       "    <tr style=\"text-align: right;\">\n",
       "      <th></th>\n",
       "      <th>0</th>\n",
       "      <th>1</th>\n",
       "      <th>2</th>\n",
       "      <th>3</th>\n",
       "      <th>4</th>\n",
       "      <th>5</th>\n",
       "      <th>6</th>\n",
       "      <th>7</th>\n",
       "      <th>8</th>\n",
       "      <th>9</th>\n",
       "      <th>10</th>\n",
       "      <th>11</th>\n",
       "    </tr>\n",
       "  </thead>\n",
       "  <tbody>\n",
       "    <tr>\n",
       "      <th>0</th>\n",
       "      <td>0</td>\n",
       "      <td>1</td>\n",
       "      <td>1</td>\n",
       "      <td>1</td>\n",
       "      <td>1</td>\n",
       "      <td>1</td>\n",
       "      <td>1</td>\n",
       "      <td>1</td>\n",
       "      <td>1</td>\n",
       "      <td>1</td>\n",
       "      <td>0</td>\n",
       "      <td>1</td>\n",
       "    </tr>\n",
       "    <tr>\n",
       "      <th>1</th>\n",
       "      <td>0</td>\n",
       "      <td>1</td>\n",
       "      <td>1</td>\n",
       "      <td>0</td>\n",
       "      <td>0</td>\n",
       "      <td>0</td>\n",
       "      <td>0</td>\n",
       "      <td>1</td>\n",
       "      <td>0</td>\n",
       "      <td>1</td>\n",
       "      <td>1</td>\n",
       "      <td>1</td>\n",
       "    </tr>\n",
       "    <tr>\n",
       "      <th>2</th>\n",
       "      <td>0</td>\n",
       "      <td>0</td>\n",
       "      <td>0</td>\n",
       "      <td>0</td>\n",
       "      <td>0</td>\n",
       "      <td>0</td>\n",
       "      <td>0</td>\n",
       "      <td>0</td>\n",
       "      <td>0</td>\n",
       "      <td>1</td>\n",
       "      <td>0</td>\n",
       "      <td>1</td>\n",
       "    </tr>\n",
       "    <tr>\n",
       "      <th>3</th>\n",
       "      <td>0</td>\n",
       "      <td>0</td>\n",
       "      <td>0</td>\n",
       "      <td>1</td>\n",
       "      <td>1</td>\n",
       "      <td>1</td>\n",
       "      <td>1</td>\n",
       "      <td>0</td>\n",
       "      <td>0</td>\n",
       "      <td>0</td>\n",
       "      <td>0</td>\n",
       "      <td>1</td>\n",
       "    </tr>\n",
       "    <tr>\n",
       "      <th>4</th>\n",
       "      <td>0</td>\n",
       "      <td>1</td>\n",
       "      <td>1</td>\n",
       "      <td>0</td>\n",
       "      <td>1</td>\n",
       "      <td>1</td>\n",
       "      <td>0</td>\n",
       "      <td>1</td>\n",
       "      <td>0</td>\n",
       "      <td>0</td>\n",
       "      <td>0</td>\n",
       "      <td>0</td>\n",
       "    </tr>\n",
       "  </tbody>\n",
       "</table>\n",
       "</div>"
      ],
      "text/plain": [
       "   0   1   2   3   4   5   6   7   8   9   10  11\n",
       "0   0   1   1   1   1   1   1   1   1   1   0   1\n",
       "1   0   1   1   0   0   0   0   1   0   1   1   1\n",
       "2   0   0   0   0   0   0   0   0   0   1   0   1\n",
       "3   0   0   0   1   1   1   1   0   0   0   0   1\n",
       "4   0   1   1   0   1   1   0   1   0   0   0   0"
      ]
     },
     "execution_count": 87,
     "metadata": {},
     "output_type": "execute_result"
    }
   ],
   "source": [
    "df.head()"
   ]
  },
  {
   "cell_type": "code",
   "execution_count": 89,
   "metadata": {},
   "outputs": [
    {
     "data": {
      "text/plain": [
       "0     0.492\n",
       "1     0.511\n",
       "2     0.507\n",
       "3     0.521\n",
       "4     0.488\n",
       "5     0.502\n",
       "6     0.510\n",
       "7     0.528\n",
       "8     0.512\n",
       "9     0.509\n",
       "10    0.492\n",
       "11    0.488\n",
       "dtype: float64"
      ]
     },
     "execution_count": 89,
     "metadata": {},
     "output_type": "execute_result"
    }
   ],
   "source": [
    "df.mean()"
   ]
  },
  {
   "cell_type": "code",
   "execution_count": null,
   "metadata": {},
   "outputs": [],
   "source": []
  }
 ],
 "metadata": {
  "interpreter": {
   "hash": "31f2aee4e71d21fbe5cf8b01ff0e069b9275f58929596ceb00d14d90e3e16cd6"
  },
  "kernelspec": {
   "display_name": "Python 3.8.9 64-bit",
   "name": "python3"
  },
  "language_info": {
   "codemirror_mode": {
    "name": "ipython",
    "version": 3
   },
   "file_extension": ".py",
   "mimetype": "text/x-python",
   "name": "python",
   "nbconvert_exporter": "python",
   "pygments_lexer": "ipython3",
   "version": "3.8.9"
  },
  "orig_nbformat": 4
 },
 "nbformat": 4,
 "nbformat_minor": 2
}
